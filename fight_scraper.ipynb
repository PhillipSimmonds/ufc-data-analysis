{
 "cells": [
  {
   "cell_type": "markdown",
   "source": [
    "UFC DATA SCAPER\n",
    "\n",
    "Auther: Phillip Simmonds"
   ],
   "metadata": {}
  },
  {
   "cell_type": "code",
   "execution_count": null,
   "source": [
    "import pandas as pd\n",
    "import numpy as np\n",
    "from bs4 import BeautifulSoup\n",
    "import requests as req\n",
    "import datetime\n",
    "import uuid"
   ],
   "outputs": [],
   "metadata": {}
  },
  {
   "cell_type": "markdown",
   "source": [
    "FIRST: COLLECT THE EVENTS DATA"
   ],
   "metadata": {}
  },
  {
   "cell_type": "code",
   "execution_count": null,
   "source": [
    "events_list_url = \"http://ufcstats.com/statistics/events/completed?page=all\""
   ],
   "outputs": [],
   "metadata": {}
  },
  {
   "cell_type": "code",
   "execution_count": null,
   "source": [
    "events_dictionary = {\n",
    "    \"eventurl\" : [],\n",
    "    \"eventurlid\" : [],\n",
    "    \"datestring\" : [],\n",
    "    \"fighttitlefullname\" : [],\n",
    "    \"fighttitlecategory\" : [],\n",
    "    \"location\" : []\n",
    "    }"
   ],
   "outputs": [],
   "metadata": {}
  },
  {
   "cell_type": "code",
   "execution_count": null,
   "source": [
    "def create_dict_for_events(fight_event):\n",
    "    event_url = str(fight_event.find(\"a\")).split('\"')[3]\n",
    "    event_url_id = event_url.split(\"/\")[-1]\n",
    "    date_string = fight_event.find(\"span\").text.replace(\"\\n\",\"\").strip()\n",
    "    fight_title_full_name = fight_event.find(\"a\").text.replace(\"\\n\",\"\").strip()\n",
    "    fight_title_category = fight_title_full_name.split(\":\")[0]\n",
    "    location = fight_event.find_all(\"td\")[-1].text.replace(\"\\n\",\"\").strip()\n",
    "    events_dictionary[\"eventurl\"].append(event_url)\n",
    "    events_dictionary[\"eventurlid\"].append(event_url_id)\n",
    "    events_dictionary[\"datestring\"].append(date_string)\n",
    "    events_dictionary[\"fighttitlefullname\"].append(fight_title_full_name)\n",
    "    events_dictionary[\"fighttitlecategory\"].append(fight_title_category)\n",
    "    events_dictionary[\"location\"].append(location)\n"
   ],
   "outputs": [],
   "metadata": {}
  },
  {
   "cell_type": "code",
   "execution_count": null,
   "source": [
    "events = BeautifulSoup(req.get(events_list_url).content, 'html.parser').find(\"table\",\"b-statistics__table-events\")\n",
    "for fight_event in events.find_all(\"tr\",\"b-statistics__table-row\")[2:]:\n",
    "    create_dict_for_events(fight_event)\n"
   ],
   "outputs": [],
   "metadata": {}
  },
  {
   "cell_type": "code",
   "execution_count": null,
   "source": [
    "event_df = pd.DataFrame.from_dict(events_dictionary)\n",
    "event_df.to_csv(\"extraction/events.csv\")"
   ],
   "outputs": [],
   "metadata": {}
  },
  {
   "cell_type": "markdown",
   "source": [
    "SECOND: COLLECT THE FIGHT NIGHT DATA"
   ],
   "metadata": {}
  },
  {
   "cell_type": "code",
   "execution_count": null,
   "source": [
    "def sp(txt):\n",
    "    return txt.text.strip()\n"
   ],
   "outputs": [],
   "metadata": {}
  },
  {
   "cell_type": "code",
   "execution_count": null,
   "source": [
    "fighter_items = []"
   ],
   "outputs": [],
   "metadata": {}
  },
  {
   "cell_type": "code",
   "execution_count": null,
   "source": [
    "\n",
    "for i,row in event_df[[\"eventurl\",\"eventurlid\"]].iterrows():\n",
    "   fighters_table = BeautifulSoup(req.get(row.eventurl).content, 'html.parser').find(\"tbody\")\n",
    "   fights = fighters_table.find_all(\"tr\")\n",
    "   for fight in fights:\n",
    "\n",
    "      fight_id = str(uuid.uuid4()) # Unique id for the fight \n",
    "      fighter_one_winner = [fight_id, row.eventurlid]\n",
    "      fighter_two = [fight_id, row.eventurlid]\n",
    "      col_vals = fight.find_all(\"td\")\n",
    "\n",
    "      if \"win\" in col_vals[0].text:\n",
    "         fighter_one_winner.append(\"WIN\")\n",
    "         fighter_two.append(\"LOSS\")\n",
    "      else:\n",
    "         fighter_one_winner.append(\"NC\")\n",
    "         fighter_two.append(\"NC\")\n",
    "      \n",
    "      names = col_vals[1].find_all(\"p\")\n",
    "      # Name \n",
    "      fighter_one_winner.append(sp(names[0]))\n",
    "      fighter_two.append(sp(names[1]))\n",
    "\n",
    "      \n",
    "      fighter_one_url = str(names[0].find(\"a\")).split('\"')[-2]\n",
    "      fighter_two_url = str(names[1].find(\"a\")).split('\"')[-2]\n",
    "      fighter_one_id = fighter_one_url.split(\"/\")[-1]\n",
    "      fighter_two_id = fighter_two_url.split(\"/\")[-1]\n",
    "\n",
    "      # Fighter id\n",
    "      fighter_one_winner.append(fighter_one_id)\n",
    "      fighter_two.append(fighter_two_id)\n",
    "\n",
    "      fighter_one_winner.append(fighter_one_url)\n",
    "      fighter_two.append(fighter_two_url)\n",
    "\n",
    "      # Fight stats\n",
    "      knock_downs = col_vals[2].find_all(\"p\")\n",
    "      strikes = col_vals[3].find_all(\"p\")\n",
    "      take_downs = col_vals[4].find_all(\"p\")\n",
    "      submissions = col_vals[5].find_all(\"p\")\n",
    "\n",
    "      fighter_one_winner.append(sp(knock_downs[0]))\n",
    "      fighter_two.append(sp(knock_downs[1]))\n",
    "      fighter_one_winner.append(sp(strikes[0]))\n",
    "      fighter_two.append(sp(strikes[1]))\n",
    "      fighter_one_winner.append(sp(take_downs[0]))\n",
    "      fighter_two.append(sp(take_downs[1]))\n",
    "      fighter_one_winner.append(sp(submissions[0]))\n",
    "      fighter_two.append(sp(submissions[1]))\n",
    "\n",
    "      # Class and Bonus\n",
    "      class_and_bonus = col_vals[6].find(\"p\")\n",
    "      w_class = sp(class_and_bonus)\n",
    "      if len(class_and_bonus.find_all(\"img\")) == 1:\n",
    "         bonus = True\n",
    "      else:\n",
    "         bonus = False\n",
    "\n",
    "      fighter_one_winner.append(w_class)\n",
    "      fighter_two.append(w_class)\n",
    "      fighter_one_winner.append(bonus)\n",
    "      fighter_two.append(False)\n",
    "\n",
    "      method = sp(col_vals[7].find_all(\"p\")[0])\n",
    "      method_2 = sp(col_vals[7].find_all(\"p\")[1])\n",
    "      fighter_one_winner.append(method)\n",
    "      fighter_two.append(method)\n",
    "      fighter_one_winner.append(method_2)\n",
    "      fighter_two.append(method_2)\n",
    "\n",
    "\n",
    "      round_end = sp(col_vals[8].find(\"p\"))\n",
    "      fighter_one_winner.append(round_end)\n",
    "      fighter_two.append(round_end)\n",
    "\n",
    "      final_round_time = sp(col_vals[9].find(\"p\"))\n",
    "      fighter_one_winner.append(final_round_time)\n",
    "      fighter_two.append(final_round_time)\n",
    "\n",
    "      fighter_items.append(fighter_one_winner)\n",
    "      fighter_items.append(fighter_two)\n",
    "\n",
    "    "
   ],
   "outputs": [],
   "metadata": {}
  },
  {
   "cell_type": "code",
   "execution_count": null,
   "source": [
    "header_ = [\n",
    "\"fightid\",\n",
    "\"eventurlid\",\n",
    "\"result\",\n",
    "\"fullname\",\n",
    "\"fighterid\",\n",
    "\"fighterdetailsurl\",\n",
    "\"knockdowns\",\n",
    "\"strikes\",\n",
    "\"takedowns\",\n",
    "\"submission_attempts\",\n",
    "\"weightclass\",\n",
    "\"fightbonus\",\n",
    "\"win_method\",\n",
    "\"methodaction\",\n",
    "\"finalround\",\n",
    "\"finalround_finshtime\"\n",
    "]"
   ],
   "outputs": [],
   "metadata": {}
  },
  {
   "cell_type": "code",
   "execution_count": null,
   "source": [
    "fighter_df = pd.DataFrame(data=fighter_items, columns = header_)\n",
    "fighter_df"
   ],
   "outputs": [],
   "metadata": {}
  },
  {
   "cell_type": "code",
   "execution_count": null,
   "source": [
    "fighter_df.to_csv(\"extraction/fight_records.csv\")"
   ],
   "outputs": [],
   "metadata": {}
  },
  {
   "cell_type": "markdown",
   "source": [
    "NEXT STEP IS GET THE FIGHTER DETAILS"
   ],
   "metadata": {}
  },
  {
   "cell_type": "code",
   "execution_count": null,
   "source": [
    "def cstats(txt):\n",
    "    return txt.text.replace(\"\\n\",\"\").split(\":\")[1].strip()\n",
    "\n",
    "\n",
    "fighter_ids = fighter_df[[\"fullname\",\"fighterid\",\"fighterdetailsurl\"]].drop_duplicates(\"fighterid\")\n",
    "lastupdate = datetime.datetime.now()\n",
    "fighter_details = []\n",
    "for i,row in fighter_ids.iterrows():\n",
    "    fighter_stats = BeautifulSoup(req.get(row.fighterdetailsurl).content, 'html.parser').find_all(\"div\", \"b-list__info-box\")\n",
    "    info = fighter_stats[0].find_all(\"li\")\n",
    "    stats = fighter_stats[1].find(\"div\", \"b-list__info-box-left\").find_all(\"li\")\n",
    "    fighter_details.append([\n",
    "            row[\"fighterid\"],\n",
    "            row[\"fullname\"],\n",
    "            cstats(info[0]),\n",
    "            cstats(info[1]),\n",
    "            cstats(info[2]),\n",
    "            cstats(info[3]),\n",
    "            cstats(info[4]),\n",
    "            cstats(stats[0]),\n",
    "            cstats(stats[1]),\n",
    "            cstats(stats[2]),\n",
    "            cstats(stats[3]),\n",
    "            cstats(stats[5]),\n",
    "            cstats(stats[6]),\n",
    "            cstats(stats[7]),\n",
    "            cstats(stats[8]),\n",
    "            lastupdate])\n",
    "    \n",
    "    # request the above url to get fighter information\n",
    "    # then we can create a players dimmension "
   ],
   "outputs": [],
   "metadata": {}
  },
  {
   "cell_type": "code",
   "execution_count": null,
   "source": [
    "cols = [\n",
    "    \"id\",\n",
    "    \"fullname\",\n",
    "    \"Height\",\n",
    "    \"Weight\",\n",
    "    \"Reach\",\n",
    "    \"STANCE\",\n",
    "    \"DOB\",\n",
    "    \"SLpM\",\n",
    "    \"StrAcc\",\n",
    "    \"SApM\",\n",
    "    \"StrDef\",\n",
    "    \"TDAvg\",\n",
    "    \"TDAcc\",\n",
    "    \"TDDef\",\n",
    "    \"SubAvg\",\n",
    "    \"lastupdated\"\n",
    "]\n",
    "df_details = pd.DataFrame(data = fighter_details, columns = cols)\n",
    "df_details"
   ],
   "outputs": [],
   "metadata": {}
  },
  {
   "cell_type": "code",
   "execution_count": null,
   "source": [
    "# Add additional data\n",
    "ft_ = df_details.Height\n",
    "cm = []\n",
    "for ft in ft_:\n",
    "    if \"'\" in ft:\n",
    "        h_inch = float(ft.split(\"'\")[1].replace('\"',\"\").strip())\n",
    "        h_inch += float(ft.split(\"'\")[0]) * 12\n",
    "        h_cm = round(h_inch * 2.54, 2)\n",
    "        cm.append(h_cm)\n",
    "    else:\n",
    "        cm.append(\"\")\n",
    "\n",
    "\n",
    "wt_ = df_details.Weight\n",
    "mass = []\n",
    "for we in wt_:\n",
    "    if \"lb\" in we:\n",
    "        kg = round(float(we.split()[0]) * 0.453592, 2)\n",
    "        mass.append(kg)\n",
    "    else:\n",
    "        mass.append(\"\")\n",
    "\n",
    "\n",
    "rc_ = df_details.Reach\n",
    "reach = []\n",
    "for rc in rc_:\n",
    "    if '\"' in rc:\n",
    "        r_cm = round(float(rc.split('\"')[0]) * 2.54, 2)\n",
    "        reach.append(r_cm)\n",
    "    else:\n",
    "        reach.append(\"\")\n",
    "\n",
    "df_details[\"HightCM\"] = cm\n",
    "df_details[\"WeightKG\"] = mass\n",
    "df_details[\"ReachCM\"] = reach"
   ],
   "outputs": [],
   "metadata": {}
  },
  {
   "cell_type": "code",
   "execution_count": null,
   "source": [
    "df_details.to_csv(\"extraction/fighter_details.csv\")"
   ],
   "outputs": [],
   "metadata": {}
  },
  {
   "cell_type": "code",
   "execution_count": null,
   "source": [],
   "outputs": [],
   "metadata": {}
  }
 ],
 "metadata": {
  "orig_nbformat": 4,
  "language_info": {
   "name": "python",
   "version": "3.9.5",
   "mimetype": "text/x-python",
   "codemirror_mode": {
    "name": "ipython",
    "version": 3
   },
   "pygments_lexer": "ipython3",
   "nbconvert_exporter": "python",
   "file_extension": ".py"
  },
  "kernelspec": {
   "name": "python3",
   "display_name": "Python 3.9.5 64-bit"
  },
  "interpreter": {
   "hash": "aee8b7b246df8f9039afb4144a1f6fd8d2ca17a180786b69acc140d282b71a49"
  }
 },
 "nbformat": 4,
 "nbformat_minor": 2
}